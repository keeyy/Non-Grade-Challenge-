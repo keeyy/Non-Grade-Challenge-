{
  "cells": [
    {
      "cell_type": "code",
      "execution_count": 1,
      "metadata": {
        "id": "lIYdn1woOS1n"
      },
      "outputs": [],
      "source": [
        "def degree (cel=None,kel=None):\n",
        "  if cel != None and kel != None:\n",
        "    a = cel + 273.15\n",
        "    b = kel - 273.15\n",
        "    c = (cel * 9/5)+32\n",
        "    d = (kel - 273.15)*(9/5)+32\n",
        "    return print(f'konversi celcius ke kelvin {a}\\nkonversi kelvin ke celcius {b}\\nkonversi celcius ke fahrenheit {c}\\nkonversi kelvin ke fahrenheit {d}')\n",
        "  elif kel != None:\n",
        "    b = kel - 273.15\n",
        "    d = (kel - 273.15)*(9/5)+32\n",
        "    return print(f'konversi kelvin ke celcius {b}\\nkonversi kelvin ke fahrenheit {d}')\n",
        "  elif cel != None:\n",
        "    a = cel + 273.15\n",
        "    c = (cel * 9/5)+32\n",
        "    return print(f'konversi celcius ke kelvin {a}\\nkonversi celcius ke fahrenheit {c}')"
      ]
    },
    {
      "cell_type": "code",
      "execution_count": 2,
      "metadata": {
        "colab": {
          "base_uri": "https://localhost:8080/"
        },
        "id": "D9rto6gm_4hH",
        "outputId": "d9f74f32-46bc-4052-937c-2f13283904a9"
      },
      "outputs": [
        {
          "name": "stdout",
          "output_type": "stream",
          "text": [
            "konversi celcius ke kelvin 293.15\n",
            "konversi celcius ke fahrenheit 68.0\n"
          ]
        }
      ],
      "source": [
        "degree(cel=20)"
      ]
    },
    {
      "cell_type": "code",
      "execution_count": null,
      "metadata": {
        "id": "7R_NZdLyCmxf"
      },
      "outputs": [],
      "source": []
    }
  ],
  "metadata": {
    "colab": {
      "name": "scratchpad",
      "provenance": []
    },
    "kernelspec": {
      "display_name": "Python 3.9.5 64-bit",
      "language": "python",
      "name": "python3"
    },
    "language_info": {
      "codemirror_mode": {
        "name": "ipython",
        "version": 3
      },
      "file_extension": ".py",
      "mimetype": "text/x-python",
      "name": "python",
      "nbconvert_exporter": "python",
      "pygments_lexer": "ipython3",
      "version": "3.9.5"
    },
    "vscode": {
      "interpreter": {
        "hash": "e31aef8222fb7c235d2ed8e74ce17e973738f89b37261e7466b7a63a6dfb1214"
      }
    }
  },
  "nbformat": 4,
  "nbformat_minor": 0
}
