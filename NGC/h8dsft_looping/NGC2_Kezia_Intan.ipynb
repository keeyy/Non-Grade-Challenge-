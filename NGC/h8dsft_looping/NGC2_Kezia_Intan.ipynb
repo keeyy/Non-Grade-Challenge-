{
  "cells": [
    {
      "cell_type": "code",
      "execution_count": 46,
      "metadata": {
        "colab": {
          "base_uri": "https://localhost:8080/"
        },
        "id": "kk4TMFWdax6o",
        "outputId": "bc8f594d-7cc1-4413-d85f-352af265dfa8"
      },
      "outputs": [
        {
          "name": "stdout",
          "output_type": "stream",
          "text": [
            "402 984 360 408 980 544 390 984 592 236 942 386 462 418 344 236 566 978 328 162 758 918 \n",
            "Done\n"
          ]
        }
      ],
      "source": [
        "numbers = [\n",
        "  951, 402, 984, 651, 360, 69, 408, 319, 601, 485, 980, 507, 725, 547, 544, 615, 83, 165, 141, 501, 263, 617, 865, 575, 219, 390, 984, 592, 236, 105, 942, 941, 386, 462, 47, 418, 907, 344, 236, 375, 823, 566, 597, 978, 328, 615, 953, 345, 399, 162, 758, 219, 918, 237, 412, 566, 826, 248, 866, 950, 626, 949\n",
        "  ]\n",
        "\n",
        "for num in numbers:\n",
        "  if num % 2 == 0:\n",
        "      print(num, end =' ')\n",
        "      if num == 918:\n",
        "        break\n",
        "print('\\nDone')"
      ]
    }
  ],
  "metadata": {
    "colab": {
      "provenance": []
    },
    "kernelspec": {
      "display_name": "Python 3.9.5 64-bit",
      "language": "python",
      "name": "python3"
    },
    "language_info": {
      "name": "python",
      "version": "3.9.5"
    },
    "vscode": {
      "interpreter": {
        "hash": "e31aef8222fb7c235d2ed8e74ce17e973738f89b37261e7466b7a63a6dfb1214"
      }
    }
  },
  "nbformat": 4,
  "nbformat_minor": 0
}
