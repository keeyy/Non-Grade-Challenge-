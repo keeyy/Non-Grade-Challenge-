{
  "cells": [
    {
      "cell_type": "code",
      "execution_count": 56,
      "metadata": {
        "id": "lIYdn1woOS1n"
      },
      "outputs": [],
      "source": [
        "def degree (cel=None,kel=None):\n",
        "  if cel != None and kel != None:\n",
        "    a = cel + 273.15\n",
        "    b = kel - 273.15\n",
        "    c = (cel * 9/5)+32\n",
        "    d = (kel - 273.15)*(9/5)+32\n",
        "    return print(f'konversi celcius ke kelvin {a}\\nkonversi kelvin ke celcius {b}\\nkonversi celcius ke fahrenheit {c}\\nkonversi kelvin ke fahrenheit {d}')\n",
        "  elif kel != None:\n",
        "    b = kel - 273.15\n",
        "    d = (kel - 273.15)*(9/5)+32\n",
        "    return print(f'konversi kelvin ke celcius {b}\\nkonversi kelvin ke fahrenheit {d}')\n",
        "  elif cel != None:\n",
        "    a = cel + 273.15\n",
        "    c = (cel * 9/5)+32\n",
        "    return print(f'konversi celcius ke kelvin {a}\\nkonversi celcius ke fahrenheit {c}')"
      ]
    },
    {
      "cell_type": "code",
      "source": [
        "degree(cel=20)"
      ],
      "metadata": {
        "id": "D9rto6gm_4hH",
        "outputId": "d9f74f32-46bc-4052-937c-2f13283904a9",
        "colab": {
          "base_uri": "https://localhost:8080/"
        }
      },
      "execution_count": 58,
      "outputs": [
        {
          "output_type": "stream",
          "name": "stdout",
          "text": [
            "konversi celcius ke kelvin 293.15\n",
            "konversi celcius ke fahrenheit 68.0\n"
          ]
        }
      ]
    },
    {
      "cell_type": "code",
      "source": [],
      "metadata": {
        "id": "7R_NZdLyCmxf"
      },
      "execution_count": null,
      "outputs": []
    }
  ],
  "metadata": {
    "colab": {
      "name": "scratchpad",
      "provenance": []
    },
    "kernelspec": {
      "display_name": "Python 3",
      "name": "python3"
    }
  },
  "nbformat": 4,
  "nbformat_minor": 0
}